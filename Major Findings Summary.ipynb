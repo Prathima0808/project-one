{
 "cells": [
  {
   "cell_type": "markdown",
   "id": "9615a463",
   "metadata": {},
   "source": [
    "# Major Findings"
   ]
  },
  {
   "cell_type": "markdown",
   "id": "dc3a3e2b",
   "metadata": {},
   "source": [
    "## Research Question 1\n",
    "\n",
    "\n",
    "Eg. findings, analysis etc\n"
   ]
  },
  {
   "cell_type": "markdown",
   "id": "929c866a",
   "metadata": {},
   "source": [
    "## Research Question 2"
   ]
  },
  {
   "cell_type": "markdown",
   "id": "492b549a",
   "metadata": {},
   "source": [
    "## Research Question 3\n",
    "### How do data science role salaries vary by role type? Out of all the Data Science Job Titles, which Job Title has the highest average salary?\n",
    "\n",
    "#### The Top Salary of Job Title\n",
    "\n",
    "1. The job title with the highest salary is 'Principal Data Scientist’, the next one is 'Director of Data Science'.\n",
    "\n",
    "2. Except for management position, the highest one is 'Data Architect’.\n",
    "\n",
    "\n",
    "#### The Popular Job Title\n",
    "\n",
    "1. The most popular job title is 'Data Scientist, 23.6%, the second one is 'Data Engineer', 21.7%, the third one is 'Data Analyst', 16%.\n",
    "\n",
    "2. The top three accounted for 61.3%. All of them have similar salary range from USD 93,000 to USD 113,000.\n",
    "\n",
    "3. The other for 17.1%, so the top 14 accounted for 82.9%.\n",
    "\n",
    "4. The 'Big Data Engineer' is not good for employees, this job title's average salary is USD 52,000, only half of 'Data Engineer'. 'Big' is less."
   ]
  },
  {
   "cell_type": "markdown",
   "id": "6827ae65",
   "metadata": {},
   "source": []
  },
  {
   "cell_type": "code",
   "execution_count": null,
   "id": "a9ebfaeb",
   "metadata": {},
   "outputs": [],
   "source": []
  }
 ],
 "metadata": {
  "kernelspec": {
   "display_name": "Python 3 (ipykernel)",
   "language": "python",
   "name": "python3"
  },
  "language_info": {
   "codemirror_mode": {
    "name": "ipython",
    "version": 3
   },
   "file_extension": ".py",
   "mimetype": "text/x-python",
   "name": "python",
   "nbconvert_exporter": "python",
   "pygments_lexer": "ipython3",
   "version": "3.7.7"
  }
 },
 "nbformat": 4,
 "nbformat_minor": 5
}
