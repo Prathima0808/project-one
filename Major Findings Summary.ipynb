{
 "cells": [
  {
   "cell_type": "markdown",
   "id": "6d74473c",
   "metadata": {},
   "source": [
    "# Major Findings Summary"
   ]
  },
  {
   "cell_type": "markdown",
   "id": "5350aa76",
   "metadata": {},
   "source": [
    "## Research Question 1\n",
    "\n",
    "### Is there a difference in salaries between those employees working from home and those employees working from the office. How do data science role salaries vary by employee experience level?\n",
    "\n",
    "#### The relationship between employee salary and working from home\n",
    "\n",
    "1. In today's society, due to data science roles being predominantly online in nature, it is possible for individuals to complete their work duties from whatever location as long as they have access to their desktop/laptop. \n",
    "2. Initial feeling would be that employees will take up a cut in their salary to gain the benefit of working from home. \n",
    "3. According to our pie chart, 62.8% of the employee sample work from home which is almost double the amount of people who are working from the office and both.\n",
    "4. According to the summary statistics table, employees completely working from home earn the most (mean of 122,457), followed by those who completely work from the office (mean of 106,354). Interestingly enough, those who do both earn the least on average (mean of 80,823).\n",
    "5. According to our bar graph, we have calculated a correlation coefficient of 0.13. Therefore there is a very weak positive correlation between employee salary and remote ratio. Although both variables tend to go up in response to one another, the relationship is not very strong.\n",
    "\n",
    "#### The relationship between employee salary and experience level\n",
    "\n",
    "1. Since salary is a numerical variable and experience level is a categorical variable, the most relevant test we can use is ANOVA.\n",
    "\n",
    "2. The null hypothesis is 'An employee's experience level has NO EFFECT on their salary. The alternative hypothesis is 'An employee's experience level will result in an improvement on their salary.\n",
    "\n",
    "3. As per our summary statistics table, it is clear that the average salary increases significantly as an employee progresses from entry level (61,643 USD) all the way to executive level (199,392 USD).\n",
    "\n",
    "4. As per our box plot and ANOVA calculation, our p-value (2.88x10^-36) is significantly less than 0.05. We have sufficient evidence that allows us to reject our null hyptohesis and conclude that an employee's experience level has an extremely significant effect on their salary. \n"
   ]
  },
  {
   "cell_type": "markdown",
   "id": "4b08f3d5",
   "metadata": {},
   "source": [
    "## Research Question 2\n",
    "\n",
    "### How do data science role salaries vary by geographic location?\n",
    "\n",
    "1. Data scientist, data engineer and data analyst are the most Ideal job profile in the field of Data science.\n",
    "2. for an Entry level employee data scientist and data analyst job profiles are best to apply.\n",
    "3. You must increase your experience level to get a good high salary\n",
    "4. North America is a very developed region in the field of data science. They have many skilled employees and have many large, medium and small companies. And second one is Oceania , 3rd is Africa and Asia and least one is South America.\n",
    "5. There are many job roles in the field of data science, but the most vibrant job profile is data science.\n"
   ]
  },
  {
   "cell_type": "markdown",
   "id": "2c845785",
   "metadata": {},
   "source": [
    "## Research Question 3\n",
    "### How do data science role salaries vary by role type? Out of all the Data Science Job Titles, which Job Title has the highest average salary?\n",
    "\n",
    "#### The Top Salary of Job Title\n",
    "\n",
    "1. The job title with the highest salary is 'Principal Data Scientist’, the next one is 'Director of Data Science'.\n",
    "\n",
    "2. Except for management position, the highest one is 'Data Architect’.\n",
    "\n",
    "\n",
    "#### The Popular Job Title\n",
    "\n",
    "1. The most popular job title is 'Data Scientist, 23.6%, the second one is 'Data Engineer', 21.7%, the third one is 'Data Analyst', 16%.\n",
    "\n",
    "2. The top three accounted for 61.3%. All of them have similar salary range from USD 93,000 to USD 113,000.\n",
    "\n",
    "3. The other for 17.1%, so the top 14 accounted for 82.9%.\n",
    "\n",
    "4. The 'Big Data Engineer' is not good for employees, this job title's average salary is USD 52,000, only half of 'Data Engineer'. 'Big' is less."
   ]
  },
  {
   "cell_type": "markdown",
   "id": "d82ad2c2",
   "metadata": {},
   "source": []
  },
  {
   "cell_type": "code",
   "execution_count": null,
   "id": "3123f85c",
   "metadata": {},
   "outputs": [],
   "source": []
  }
 ],
 "metadata": {
  "kernelspec": {
   "display_name": "Python 3 (ipykernel)",
   "language": "python",
   "name": "python3"
  },
  "language_info": {
   "codemirror_mode": {
    "name": "ipython",
    "version": 3
   },
   "file_extension": ".py",
   "mimetype": "text/x-python",
   "name": "python",
   "nbconvert_exporter": "python",
   "pygments_lexer": "ipython3",
   "version": "3.7.7"
  }
 },
 "nbformat": 4,
 "nbformat_minor": 5
}
