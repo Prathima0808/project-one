{
 "cells": [
  {
   "cell_type": "markdown",
   "id": "0eccbc59",
   "metadata": {},
   "source": [
    "# Major Findings"
   ]
  },
  {
   "cell_type": "markdown",
   "id": "25fa8a8c",
   "metadata": {},
   "source": [
    "## Research Question 1\n",
    "\n",
    "\n",
    "Eg. findings, analysis etc\n"
   ]
  },
  {
   "cell_type": "markdown",
   "id": "dbb7d53d",
   "metadata": {},
   "source": [
    "## Research Question 2"
   ]
  },
  {
   "cell_type": "markdown",
   "id": "b0b399cd",
   "metadata": {},
   "source": [
    "## Research Question 3\n",
    "How do data science role salaries vary by role type? Out of all the Data Science Job Titles, which Job Title has the highest average salary?\n",
    "\n",
    "### The Top Salary of Job Title\n",
    "1. The highest salary of job title is ___'Principal Data Scientist'___, the next one is ___'Director of Data Science'___. \n",
    "2. Except for management position, the highest one is ___'Data Architect'___.\n",
    "\n",
    "### The Popular Job Title\n",
    "1. The most popular job title is ___'Data Scientist'___, 23.6%, the second one is ___'Data Engineer'___, 21.7%, the third one is ___'Data Analyst'___, 16%.\n",
    "2. The top three accounted for 61.3%. All of them have similar salary range, from USD 93000 to USD 113000.\n",
    "3. The 'Big Data Engineer' is not good for employee, this job title average salary is USD 52000, only half of 'Data Engineer'. 'Big' is less."
   ]
  },
  {
   "cell_type": "code",
   "execution_count": null,
   "id": "d4e30b53",
   "metadata": {},
   "outputs": [],
   "source": []
  }
 ],
 "metadata": {
  "kernelspec": {
   "display_name": "Python 3.10.5 64-bit",
   "language": "python",
   "name": "python3"
  },
  "language_info": {
   "codemirror_mode": {
    "name": "ipython",
    "version": 3
   },
   "file_extension": ".py",
   "mimetype": "text/x-python",
   "name": "python",
   "nbconvert_exporter": "python",
   "pygments_lexer": "ipython3",
   "version": "3.10.5"
  },
  "vscode": {
   "interpreter": {
    "hash": "a41bc72014dd4c32d28253ce344605950f64cad71e0863464927248faee774fa"
   }
  }
 },
 "nbformat": 4,
 "nbformat_minor": 5
}
