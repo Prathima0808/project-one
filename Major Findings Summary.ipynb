{
 "cells": [
  {
   "cell_type": "markdown",
   "id": "0eccbc59",
   "metadata": {},
   "source": [
    "# Major Findings"
   ]
  },
  {
   "cell_type": "markdown",
   "id": "25fa8a8c",
   "metadata": {},
   "source": [
    "## Research Question 1\n",
    "\n",
    "\n",
    "Eg. findings, analysis etc\n"
   ]
  },
  {
   "cell_type": "markdown",
   "id": "dbb7d53d",
   "metadata": {},
   "source": [
    "## Research Question 2"
   ]
  },
  {
   "cell_type": "markdown",
   "id": "b0b399cd",
   "metadata": {},
   "source": [
    "## Research Question 3"
   ]
  },
  {
   "cell_type": "code",
   "execution_count": null,
   "id": "d9f9b998",
   "metadata": {},
   "outputs": [],
   "source": []
  }
 ],
 "metadata": {
  "kernelspec": {
   "display_name": "Python 3 (ipykernel)",
   "language": "python",
   "name": "python3"
  },
  "language_info": {
   "codemirror_mode": {
    "name": "ipython",
    "version": 3
   },
   "file_extension": ".py",
   "mimetype": "text/x-python",
   "name": "python",
   "nbconvert_exporter": "python",
   "pygments_lexer": "ipython3",
   "version": "3.7.7"
  }
 },
 "nbformat": 4,
 "nbformat_minor": 5
}
