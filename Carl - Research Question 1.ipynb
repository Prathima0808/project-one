{
 "cells": [
  {
   "cell_type": "code",
   "execution_count": 1,
   "id": "edc8ba21",
   "metadata": {},
   "outputs": [],
   "source": [
    "import matplotlib.pyplot as plt\n",
    "import pandas as pd\n",
    "import scipy.stats as st\n",
    "import numpy as np"
   ]
  },
  {
   "cell_type": "code",
   "execution_count": 2,
   "id": "2f728eda",
   "metadata": {},
   "outputs": [
    {
     "data": {
      "text/html": [
       "<div>\n",
       "<style scoped>\n",
       "    .dataframe tbody tr th:only-of-type {\n",
       "        vertical-align: middle;\n",
       "    }\n",
       "\n",
       "    .dataframe tbody tr th {\n",
       "        vertical-align: top;\n",
       "    }\n",
       "\n",
       "    .dataframe thead th {\n",
       "        text-align: right;\n",
       "    }\n",
       "</style>\n",
       "<table border=\"1\" class=\"dataframe\">\n",
       "  <thead>\n",
       "    <tr style=\"text-align: right;\">\n",
       "      <th></th>\n",
       "      <th>Work Year</th>\n",
       "      <th>Experience Level</th>\n",
       "      <th>Employment Type</th>\n",
       "      <th>Job Title</th>\n",
       "      <th>Salary</th>\n",
       "      <th>Salary Currency</th>\n",
       "      <th>Salary in USD</th>\n",
       "      <th>Employee Residence</th>\n",
       "      <th>Remote Ratio</th>\n",
       "      <th>Company Location</th>\n",
       "      <th>Company Size</th>\n",
       "    </tr>\n",
       "  </thead>\n",
       "  <tbody>\n",
       "    <tr>\n",
       "      <th>0</th>\n",
       "      <td>2020</td>\n",
       "      <td>MI</td>\n",
       "      <td>FT</td>\n",
       "      <td>Data Scientist</td>\n",
       "      <td>70000</td>\n",
       "      <td>EUR</td>\n",
       "      <td>79833</td>\n",
       "      <td>DE</td>\n",
       "      <td>0</td>\n",
       "      <td>DE</td>\n",
       "      <td>L</td>\n",
       "    </tr>\n",
       "    <tr>\n",
       "      <th>1</th>\n",
       "      <td>2020</td>\n",
       "      <td>SE</td>\n",
       "      <td>FT</td>\n",
       "      <td>Machine Learning Scientist</td>\n",
       "      <td>260000</td>\n",
       "      <td>USD</td>\n",
       "      <td>260000</td>\n",
       "      <td>JP</td>\n",
       "      <td>0</td>\n",
       "      <td>JP</td>\n",
       "      <td>S</td>\n",
       "    </tr>\n",
       "    <tr>\n",
       "      <th>2</th>\n",
       "      <td>2020</td>\n",
       "      <td>SE</td>\n",
       "      <td>FT</td>\n",
       "      <td>Big Data Engineer</td>\n",
       "      <td>85000</td>\n",
       "      <td>GBP</td>\n",
       "      <td>109024</td>\n",
       "      <td>GB</td>\n",
       "      <td>50</td>\n",
       "      <td>GB</td>\n",
       "      <td>M</td>\n",
       "    </tr>\n",
       "    <tr>\n",
       "      <th>3</th>\n",
       "      <td>2020</td>\n",
       "      <td>MI</td>\n",
       "      <td>FT</td>\n",
       "      <td>Product Data Analyst</td>\n",
       "      <td>20000</td>\n",
       "      <td>USD</td>\n",
       "      <td>20000</td>\n",
       "      <td>HN</td>\n",
       "      <td>0</td>\n",
       "      <td>HN</td>\n",
       "      <td>S</td>\n",
       "    </tr>\n",
       "    <tr>\n",
       "      <th>4</th>\n",
       "      <td>2020</td>\n",
       "      <td>SE</td>\n",
       "      <td>FT</td>\n",
       "      <td>Machine Learning Engineer</td>\n",
       "      <td>150000</td>\n",
       "      <td>USD</td>\n",
       "      <td>150000</td>\n",
       "      <td>US</td>\n",
       "      <td>50</td>\n",
       "      <td>US</td>\n",
       "      <td>L</td>\n",
       "    </tr>\n",
       "    <tr>\n",
       "      <th>...</th>\n",
       "      <td>...</td>\n",
       "      <td>...</td>\n",
       "      <td>...</td>\n",
       "      <td>...</td>\n",
       "      <td>...</td>\n",
       "      <td>...</td>\n",
       "      <td>...</td>\n",
       "      <td>...</td>\n",
       "      <td>...</td>\n",
       "      <td>...</td>\n",
       "      <td>...</td>\n",
       "    </tr>\n",
       "    <tr>\n",
       "      <th>602</th>\n",
       "      <td>2022</td>\n",
       "      <td>SE</td>\n",
       "      <td>FT</td>\n",
       "      <td>Data Engineer</td>\n",
       "      <td>154000</td>\n",
       "      <td>USD</td>\n",
       "      <td>154000</td>\n",
       "      <td>US</td>\n",
       "      <td>100</td>\n",
       "      <td>US</td>\n",
       "      <td>M</td>\n",
       "    </tr>\n",
       "    <tr>\n",
       "      <th>603</th>\n",
       "      <td>2022</td>\n",
       "      <td>SE</td>\n",
       "      <td>FT</td>\n",
       "      <td>Data Engineer</td>\n",
       "      <td>126000</td>\n",
       "      <td>USD</td>\n",
       "      <td>126000</td>\n",
       "      <td>US</td>\n",
       "      <td>100</td>\n",
       "      <td>US</td>\n",
       "      <td>M</td>\n",
       "    </tr>\n",
       "    <tr>\n",
       "      <th>604</th>\n",
       "      <td>2022</td>\n",
       "      <td>SE</td>\n",
       "      <td>FT</td>\n",
       "      <td>Data Analyst</td>\n",
       "      <td>129000</td>\n",
       "      <td>USD</td>\n",
       "      <td>129000</td>\n",
       "      <td>US</td>\n",
       "      <td>0</td>\n",
       "      <td>US</td>\n",
       "      <td>M</td>\n",
       "    </tr>\n",
       "    <tr>\n",
       "      <th>605</th>\n",
       "      <td>2022</td>\n",
       "      <td>SE</td>\n",
       "      <td>FT</td>\n",
       "      <td>Data Analyst</td>\n",
       "      <td>150000</td>\n",
       "      <td>USD</td>\n",
       "      <td>150000</td>\n",
       "      <td>US</td>\n",
       "      <td>100</td>\n",
       "      <td>US</td>\n",
       "      <td>M</td>\n",
       "    </tr>\n",
       "    <tr>\n",
       "      <th>606</th>\n",
       "      <td>2022</td>\n",
       "      <td>MI</td>\n",
       "      <td>FT</td>\n",
       "      <td>AI Scientist</td>\n",
       "      <td>200000</td>\n",
       "      <td>USD</td>\n",
       "      <td>200000</td>\n",
       "      <td>IN</td>\n",
       "      <td>100</td>\n",
       "      <td>US</td>\n",
       "      <td>L</td>\n",
       "    </tr>\n",
       "  </tbody>\n",
       "</table>\n",
       "<p>607 rows × 11 columns</p>\n",
       "</div>"
      ],
      "text/plain": [
       "     Work Year Experience Level Employment Type                   Job Title  \\\n",
       "0         2020               MI              FT              Data Scientist   \n",
       "1         2020               SE              FT  Machine Learning Scientist   \n",
       "2         2020               SE              FT           Big Data Engineer   \n",
       "3         2020               MI              FT        Product Data Analyst   \n",
       "4         2020               SE              FT   Machine Learning Engineer   \n",
       "..         ...              ...             ...                         ...   \n",
       "602       2022               SE              FT               Data Engineer   \n",
       "603       2022               SE              FT               Data Engineer   \n",
       "604       2022               SE              FT                Data Analyst   \n",
       "605       2022               SE              FT                Data Analyst   \n",
       "606       2022               MI              FT                AI Scientist   \n",
       "\n",
       "     Salary Salary Currency  Salary in USD Employee Residence  Remote Ratio  \\\n",
       "0     70000             EUR          79833                 DE             0   \n",
       "1    260000             USD         260000                 JP             0   \n",
       "2     85000             GBP         109024                 GB            50   \n",
       "3     20000             USD          20000                 HN             0   \n",
       "4    150000             USD         150000                 US            50   \n",
       "..      ...             ...            ...                ...           ...   \n",
       "602  154000             USD         154000                 US           100   \n",
       "603  126000             USD         126000                 US           100   \n",
       "604  129000             USD         129000                 US             0   \n",
       "605  150000             USD         150000                 US           100   \n",
       "606  200000             USD         200000                 IN           100   \n",
       "\n",
       "    Company Location Company Size  \n",
       "0                 DE            L  \n",
       "1                 JP            S  \n",
       "2                 GB            M  \n",
       "3                 HN            S  \n",
       "4                 US            L  \n",
       "..               ...          ...  \n",
       "602               US            M  \n",
       "603               US            M  \n",
       "604               US            M  \n",
       "605               US            M  \n",
       "606               US            L  \n",
       "\n",
       "[607 rows x 11 columns]"
      ]
     },
     "execution_count": 2,
     "metadata": {},
     "output_type": "execute_result"
    }
   ],
   "source": [
    "ds_salaries_df = pd.read_csv(\"Resources/ds_salaries.csv\")\n",
    "del ds_salaries_df[\"Unnamed: 0\"]\n",
    "\n",
    "ds_renamed_df = ds_salaries_df.rename(columns={\"work_year\":\"Work Year\",\n",
    "                                              \"experience_level\":\"Experience Level\",\n",
    "                                              \"employment_type\":\"Employment Type\",\n",
    "                                              \"job_title\":\"Job Title\",\n",
    "                                              \"salary\":\"Salary\",\n",
    "                                              \"salary_currency\":\"Salary Currency\",\n",
    "                                              \"salary_in_usd\": \"Salary in USD\",\n",
    "                                              \"employee_residence\":\"Employee Residence\",\n",
    "                                              \"remote_ratio\":\"Remote Ratio\",\n",
    "                                              \"company_location\":\"Company Location\",\n",
    "                                              \"company_size\":\"Company Size\"})\n",
    "\n",
    "ds_renamed_df"
   ]
  },
  {
   "cell_type": "markdown",
   "id": "52b61ef0",
   "metadata": {},
   "source": [
    "# Remote Ratio vs Salary (Correlation Coefficient)"
   ]
  },
  {
   "cell_type": "code",
   "execution_count": 3,
   "id": "0b7c1588",
   "metadata": {},
   "outputs": [
    {
     "data": {
      "text/plain": [
       "100    381\n",
       "0      127\n",
       "50      99\n",
       "Name: Remote Ratio, dtype: int64"
      ]
     },
     "execution_count": 3,
     "metadata": {},
     "output_type": "execute_result"
    }
   ],
   "source": [
    "ds_renamed_df[\"Remote Ratio\"].value_counts()"
   ]
  },
  {
   "cell_type": "code",
   "execution_count": 4,
   "id": "7c789d73",
   "metadata": {},
   "outputs": [
    {
     "data": {
      "text/html": [
       "<div>\n",
       "<style scoped>\n",
       "    .dataframe tbody tr th:only-of-type {\n",
       "        vertical-align: middle;\n",
       "    }\n",
       "\n",
       "    .dataframe tbody tr th {\n",
       "        vertical-align: top;\n",
       "    }\n",
       "\n",
       "    .dataframe thead th {\n",
       "        text-align: right;\n",
       "    }\n",
       "</style>\n",
       "<table border=\"1\" class=\"dataframe\">\n",
       "  <thead>\n",
       "    <tr style=\"text-align: right;\">\n",
       "      <th></th>\n",
       "      <th>Mean</th>\n",
       "      <th>Median</th>\n",
       "      <th>Variance</th>\n",
       "      <th>Std Deviation</th>\n",
       "    </tr>\n",
       "    <tr>\n",
       "      <th>Remote Ratio</th>\n",
       "      <th></th>\n",
       "      <th></th>\n",
       "      <th></th>\n",
       "      <th></th>\n",
       "    </tr>\n",
       "  </thead>\n",
       "  <tbody>\n",
       "    <tr>\n",
       "      <th>0</th>\n",
       "      <td>106354.622047</td>\n",
       "      <td>99000</td>\n",
       "      <td>4.586613e+09</td>\n",
       "      <td>67724.540800</td>\n",
       "    </tr>\n",
       "    <tr>\n",
       "      <th>50</th>\n",
       "      <td>80823.030303</td>\n",
       "      <td>69999</td>\n",
       "      <td>3.289377e+09</td>\n",
       "      <td>57353.093614</td>\n",
       "    </tr>\n",
       "    <tr>\n",
       "      <th>100</th>\n",
       "      <td>122457.454068</td>\n",
       "      <td>115000</td>\n",
       "      <td>5.286867e+09</td>\n",
       "      <td>72710.843718</td>\n",
       "    </tr>\n",
       "  </tbody>\n",
       "</table>\n",
       "</div>"
      ],
      "text/plain": [
       "                       Mean  Median      Variance  Std Deviation\n",
       "Remote Ratio                                                    \n",
       "0             106354.622047   99000  4.586613e+09   67724.540800\n",
       "50             80823.030303   69999  3.289377e+09   57353.093614\n",
       "100           122457.454068  115000  5.286867e+09   72710.843718"
      ]
     },
     "execution_count": 4,
     "metadata": {},
     "output_type": "execute_result"
    }
   ],
   "source": [
    "remote_ratio = ds_renamed_df.groupby([\"Remote Ratio\"])\n",
    "\n",
    "salary_mean = remote_ratio[\"Salary in USD\"].mean()\n",
    "salary_median = remote_ratio[\"Salary in USD\"].median()\n",
    "salary_var = remote_ratio[\"Salary in USD\"].var()\n",
    "salary_std = remote_ratio[\"Salary in USD\"].std()\n",
    "\n",
    "salary_remote_summary_df = pd.DataFrame({\"Mean\": salary_mean,\n",
    "                         \"Median\": salary_median,\n",
    "                         \"Variance\": salary_var,\n",
    "                         \"Std Deviation\": salary_std\n",
    "                          })\n",
    "salary_remote_summary_df"
   ]
  },
  {
   "cell_type": "code",
   "execution_count": 5,
   "id": "93dd7d22",
   "metadata": {},
   "outputs": [
    {
     "data": {
      "text/plain": [
       "Text(0.5, 1.0, 'Distribution of Employee Working from Home vs Office')"
      ]
     },
     "execution_count": 5,
     "metadata": {},
     "output_type": "execute_result"
    },
    {
     "data": {
      "image/png": "[encoded data removed]",
      "text/plain": [
       "<Figure size 432x288 with 1 Axes>"
      ]
     },
     "metadata": {},
     "output_type": "display_data"
    }
   ],
   "source": [
    "labels = [\"0\", \"50\", \"100\"]\n",
    "sizes = [127, 99, 381]\n",
    "explode = (0, 0, 0.1)\n",
    "\n",
    "plt.pie(sizes, explode=explode, labels=labels, autopct='%1.1f%%',\n",
    "        startangle=90)\n",
    "plt.ylabel(\"Remote Ratio (%)\")\n",
    "plt.title(\"Distribution of Employee Working from Home vs Office\")\n"
   ]
  },
  {
   "cell_type": "code",
   "execution_count": 19,
   "id": "ad5d7b06",
   "metadata": {},
   "outputs": [
    {
     "data": {
      "text/plain": [
       "Text(20, 350000, 'y = 230.29x + 95964.88')"
      ]
     },
     "execution_count": 19,
     "metadata": {},
     "output_type": "execute_result"
    },
    {
     "data": {
      "image/png": "[encoded data removed]",
      "text/plain": [
       "<Figure size 432x288 with 1 Axes>"
      ]
     },
     "metadata": {
      "needs_background": "light"
     },
     "output_type": "display_data"
    }
   ],
   "source": [
    "plt.scatter(ds_renamed_df[\"Remote Ratio\"], ds_renamed_df[\"Salary in USD\"], edgecolor = \"black\")\n",
    "plt.xlabel(\"Remote Ratio (%)\")\n",
    "plt.ylabel(\"Salary in USD ($)\")\n",
    "plt.title(\"Employee Salary vs Work from Home\")\n",
    "\n",
    "(slope, intercept, rvalue, pvalue, stderr) = st.linregress(ds_renamed_df[\"Remote Ratio\"], ds_renamed_df[\"Salary in USD\"])\n",
    "regress_values = ds_renamed_df[\"Remote Ratio\"] * slope + intercept\n",
    "line_eq = \"y = \" + str(round(slope,2)) + \"x + \" + str(round(intercept,2))\n",
    "plt.plot(ds_renamed_df[\"Remote Ratio\"],regress_values,\"r-\",)\n",
    "plt.annotate(line_eq,(20,350000),fontsize=15,color=\"red\")"
   ]
  },
  {
   "cell_type": "code",
   "execution_count": null,
   "id": "b242b535",
   "metadata": {},
   "outputs": [],
   "source": []
  },
  {
   "cell_type": "code",
   "execution_count": 20,
   "id": "b77d0cb7",
   "metadata": {},
   "outputs": [
    {
     "name": "stdout",
     "output_type": "stream",
     "text": [
      "The correlation between employee salary and remote ratio is 0.13212233539422102\n",
      "Therefore there is a very weak positive correlation between employee salary and remote ratio. Although both variables tend to go up in response to one another, the relationship is not very strong.\n"
     ]
    }
   ],
   "source": [
    "correlation = st.pearsonr(ds_renamed_df[\"Remote Ratio\"], ds_renamed_df[\"Salary in USD\"])[0]\n",
    "\n",
    "print(f\"The correlation between employee salary and remote ratio is {correlation}\")\n",
    "print(\"Therefore there is a very weak positive correlation between employee salary and remote ratio. Although both variables tend to go up in response to one another, the relationship is not very strong.\")"
   ]
  },
  {
   "cell_type": "markdown",
   "id": "cfc985c6",
   "metadata": {},
   "source": [
    "# Experience Level vs Salary (Hypothesis Testing - ANOVA)"
   ]
  },
  {
   "cell_type": "markdown",
   "id": "6cea873c",
   "metadata": {},
   "source": [
    "### Null Hypothesis\n",
    "An employee's experience level has NO EFFECT on their salary.\n",
    "\n",
    "### Alternative Hypothesis\n",
    "An employee's experience level will result in an improvement on their salary."
   ]
  },
  {
   "cell_type": "code",
   "execution_count": 7,
   "id": "b8cd12df",
   "metadata": {},
   "outputs": [
    {
     "data": {
      "text/plain": [
       "SE    280\n",
       "MI    213\n",
       "EN     88\n",
       "EX     26\n",
       "Name: Experience Level, dtype: int64"
      ]
     },
     "execution_count": 7,
     "metadata": {},
     "output_type": "execute_result"
    }
   ],
   "source": [
    "ds_renamed_df[\"Experience Level\"].value_counts()"
   ]
  },
  {
   "cell_type": "code",
   "execution_count": 8,
   "id": "96d2ee90",
   "metadata": {},
   "outputs": [
    {
     "data": {
      "text/html": [
       "<div>\n",
       "<style scoped>\n",
       "    .dataframe tbody tr th:only-of-type {\n",
       "        vertical-align: middle;\n",
       "    }\n",
       "\n",
       "    .dataframe tbody tr th {\n",
       "        vertical-align: top;\n",
       "    }\n",
       "\n",
       "    .dataframe thead th {\n",
       "        text-align: right;\n",
       "    }\n",
       "</style>\n",
       "<table border=\"1\" class=\"dataframe\">\n",
       "  <thead>\n",
       "    <tr style=\"text-align: right;\">\n",
       "      <th></th>\n",
       "      <th>Mean</th>\n",
       "      <th>Median</th>\n",
       "      <th>Variance</th>\n",
       "      <th>Std Deviation</th>\n",
       "    </tr>\n",
       "    <tr>\n",
       "      <th>Experience Level</th>\n",
       "      <th></th>\n",
       "      <th></th>\n",
       "      <th></th>\n",
       "      <th></th>\n",
       "    </tr>\n",
       "  </thead>\n",
       "  <tbody>\n",
       "    <tr>\n",
       "      <th>EN</th>\n",
       "      <td>61643.318182</td>\n",
       "      <td>56500.0</td>\n",
       "      <td>1.970964e+09</td>\n",
       "      <td>44395.541126</td>\n",
       "    </tr>\n",
       "    <tr>\n",
       "      <th>MI</th>\n",
       "      <td>87996.056338</td>\n",
       "      <td>76940.0</td>\n",
       "      <td>4.083345e+09</td>\n",
       "      <td>63901.057478</td>\n",
       "    </tr>\n",
       "    <tr>\n",
       "      <th>SE</th>\n",
       "      <td>138617.292857</td>\n",
       "      <td>135500.0</td>\n",
       "      <td>3.328364e+09</td>\n",
       "      <td>57691.978337</td>\n",
       "    </tr>\n",
       "    <tr>\n",
       "      <th>EX</th>\n",
       "      <td>199392.038462</td>\n",
       "      <td>171437.5</td>\n",
       "      <td>1.370568e+10</td>\n",
       "      <td>117071.255697</td>\n",
       "    </tr>\n",
       "  </tbody>\n",
       "</table>\n",
       "</div>"
      ],
      "text/plain": [
       "                           Mean    Median      Variance  Std Deviation\n",
       "Experience Level                                                      \n",
       "EN                 61643.318182   56500.0  1.970964e+09   44395.541126\n",
       "MI                 87996.056338   76940.0  4.083345e+09   63901.057478\n",
       "SE                138617.292857  135500.0  3.328364e+09   57691.978337\n",
       "EX                199392.038462  171437.5  1.370568e+10  117071.255697"
      ]
     },
     "execution_count": 8,
     "metadata": {},
     "output_type": "execute_result"
    }
   ],
   "source": [
    "exp_level = ds_renamed_df.groupby([\"Experience Level\"])\n",
    "\n",
    "salary2_mean = exp_level[\"Salary in USD\"].mean()\n",
    "salary2_median = exp_level[\"Salary in USD\"].median()\n",
    "salary2_var = exp_level[\"Salary in USD\"].var()\n",
    "salary2_std = exp_level[\"Salary in USD\"].std()\n",
    "\n",
    "salary_explevel_summary_df = pd.DataFrame({\"Mean\": salary2_mean,\n",
    "                         \"Median\": salary2_median,\n",
    "                         \"Variance\": salary2_var,\n",
    "                         \"Std Deviation\": salary2_std\n",
    "                          })\n",
    "\n",
    "salary_explevel_summary_df.reindex([\"EN\", \"MI\", \"SE\", \"EX\"])\n",
    "\n",
    "\n"
   ]
  },
  {
   "cell_type": "code",
   "execution_count": 9,
   "id": "4d8a35e7",
   "metadata": {},
   "outputs": [
    {
     "data": {
      "text/plain": [
       "Text(0.5, 1.0, 'Distribution of Employee Experience Level')"
      ]
     },
     "execution_count": 9,
     "metadata": {},
     "output_type": "execute_result"
    },
    {
     "data": {
      "image/png": "[encoded data removed]",
      "text/plain": [
       "<Figure size 432x288 with 1 Axes>"
      ]
     },
     "metadata": {},
     "output_type": "display_data"
    }
   ],
   "source": [
    "labels2 = [\"EN\", \"MI\", \"SE\", \"EX\"]\n",
    "sizes2 = [88, 213, 280, 26]\n",
    "explode2 = (0, 0, 0.1, 0)\n",
    "\n",
    "plt.pie(sizes2, explode=explode2, labels=labels2, autopct='%1.1f%%',\n",
    "        startangle=90)\n",
    "plt.ylabel(\"Experience Level\")\n",
    "plt.title(\"Distribution of Employee Experience Level\")"
   ]
  },
  {
   "cell_type": "code",
   "execution_count": 26,
   "id": "d4535810",
   "metadata": {},
   "outputs": [
    {
     "data": {
      "text/plain": [
       "<matplotlib.axes._subplots.AxesSubplot at 0x286f2d7ecc8>"
      ]
     },
     "execution_count": 26,
     "metadata": {},
     "output_type": "execute_result"
    },
    {
     "data": {
      "image/png": "[encoded data removed]",
      "text/plain": [
       "<Figure size 720x720 with 1 Axes>"
      ]
     },
     "metadata": {
      "needs_background": "light"
     },
     "output_type": "display_data"
    }
   ],
   "source": [
    "ds_renamed_df.boxplot(\"Salary in USD\", by=\"Experience Level\", figsize=(10,10))"
   ]
  },
  {
   "cell_type": "code",
   "execution_count": 27,
   "id": "5432f305",
   "metadata": {},
   "outputs": [],
   "source": [
    "#Extract individual groups\n",
    "group0 = ds_renamed_df[ds_renamed_df[\"Experience Level\"] == \"EN\"][\"Salary in USD\"]\n",
    "group1 = ds_renamed_df[ds_renamed_df[\"Experience Level\"] == \"EX\"][\"Salary in USD\"]\n",
    "group2 = ds_renamed_df[ds_renamed_df[\"Experience Level\"] == \"MI\"][\"Salary in USD\"]\n",
    "group3 = ds_renamed_df[ds_renamed_df[\"Experience Level\"] == \"SE\"][\"Salary in USD\"]"
   ]
  },
  {
   "cell_type": "code",
   "execution_count": 28,
   "id": "9011bca8",
   "metadata": {},
   "outputs": [
    {
     "data": {
      "text/plain": [
       "F_onewayResult(statistic=64.67551541055848, pvalue=2.8818473464173216e-36)"
      ]
     },
     "execution_count": 28,
     "metadata": {},
     "output_type": "execute_result"
    }
   ],
   "source": [
    "st.f_oneway(group0, group1, group2, group3)"
   ]
  },
  {
   "cell_type": "code",
   "execution_count": 32,
   "id": "f7d85de4",
   "metadata": {},
   "outputs": [
    {
     "name": "stdout",
     "output_type": "stream",
     "text": [
      "Since the p-value calculated is < 0.05, we have sufficient evidence that allows us to reject our null hyptohesis and conclude that an employee's experience level has an extremely significant effect on their salary.\n"
     ]
    }
   ],
   "source": [
    "print(\"Since the p-value calculated is < 0.05, we have sufficient evidence that allows us to reject our null hyptohesis and conclude that an employee's experience level has an extremely significant effect on their salary.\")"
   ]
  },
  {
   "cell_type": "code",
   "execution_count": null,
   "id": "e9a51686",
   "metadata": {},
   "outputs": [],
   "source": []
  }
 ],
 "metadata": {
  "kernelspec": {
   "display_name": "Python 3 (ipykernel)",
   "language": "python",
   "name": "python3"
  },
  "language_info": {
   "codemirror_mode": {
    "name": "ipython",
    "version": 3
   },
   "file_extension": ".py",
   "mimetype": "text/x-python",
   "name": "python",
   "nbconvert_exporter": "python",
   "pygments_lexer": "ipython3",
   "version": "3.7.7"
  }
 },
 "nbformat": 4,
 "nbformat_minor": 5
}
